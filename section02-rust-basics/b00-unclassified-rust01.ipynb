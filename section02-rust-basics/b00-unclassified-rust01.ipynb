{
 "cells": [
  {
   "cell_type": "markdown",
   "metadata": {},
   "source": [
    "# List of all concepts learnt in Rust in Nov 2024"
   ]
  },
  {
   "cell_type": "markdown",
   "metadata": {},
   "source": [
    "## 01 Traits"
   ]
  },
  {
   "cell_type": "markdown",
   "metadata": {},
   "source": [
    "### Traits like interfaces in Java"
   ]
  },
  {
   "cell_type": "markdown",
   "metadata": {},
   "source": [
    "## 02 Unclassified"
   ]
  },
  {
   "cell_type": "code",
   "execution_count": 3,
   "metadata": {
    "vscode": {
     "languageId": "rust"
    }
   },
   "outputs": [
    {
     "name": "stdout",
     "output_type": "stream",
     "text": [
      "Is outer x carried inside here? x: 10\n",
      "Inner x: 15\n",
      "Outer x: 10\n",
      "Outer x with shadowing: 15\n"
     ]
    }
   ],
   "source": [
    "fn main() {\n",
    "    let x = 10;\n",
    "    {\n",
    "        println!(\"Is outer x carried inside here? x: {}\", x);\n",
    "\n",
    "        let x = x + 5; // Shadowing the outer `x`\n",
    "        // Inside this inner scope, `x` is shadowed by a new variable.\n",
    "        // Memory-wise, the inner `x` occupies a new space, while the outer `x` remains unchanged.\n",
    "        println!(\"Inner x: {}\", x); // Outputs: Inner x: 15\n",
    "    }\n",
    "    println!(\"Outer x: {}\", x); // Outputs: Outer x: 10\n",
    "\n",
    "    let x = 15;\n",
    "    // Here, `x` is shadowed again in the outermost scope.\n",
    "    // A fresh memory allocation is made for this `x`, keeping previous `x` values intact up to this point.\n",
    "    println!(\"Outer x with shadowing: {}\", x);\n",
    "}\n",
    "main();"
   ]
  },
  {
   "cell_type": "markdown",
   "metadata": {},
   "source": [
    "## "
   ]
  },
  {
   "cell_type": "code",
   "execution_count": null,
   "metadata": {
    "vscode": {
     "languageId": "rust"
    }
   },
   "outputs": [],
   "source": []
  },
  {
   "cell_type": "markdown",
   "metadata": {},
   "source": [
    "## "
   ]
  }
 ],
 "metadata": {
  "kernelspec": {
   "display_name": "Rust",
   "language": "rust",
   "name": "rust"
  },
  "language_info": {
   "codemirror_mode": "rust",
   "file_extension": ".rs",
   "mimetype": "text/rust",
   "name": "Rust",
   "pygment_lexer": "rust",
   "version": ""
  }
 },
 "nbformat": 4,
 "nbformat_minor": 2
}
