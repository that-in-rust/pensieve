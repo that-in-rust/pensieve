{
 "cells": [
  {
   "cell_type": "markdown",
   "metadata": {},
   "source": [
    "#### R0001 Hello World in Rust"
   ]
  },
  {
   "cell_type": "code",
   "execution_count": 2,
   "metadata": {
    "vscode": {
     "languageId": "rust"
    }
   },
   "outputs": [
    {
     "name": "stdout",
     "output_type": "stream",
     "text": [
      "Hello World\n"
     ]
    }
   ],
   "source": [
    "// Rust version of Hello World\n",
    "\n",
    "fn main() {\n",
    "    println!(\"Hello World\");\n",
    "}\n",
    "\n",
    "\n",
    "// Run it!\n",
    "main();\n",
    "\n",
    "// Rust vs Java:\n",
    "// - Entry point: fn main() vs public static void main(String[] args)\n",
    "// - Printing: println!() macro vs System.out.println() method\n",
    "// - Semicolons: Optional for last expression vs Required after each statement\n",
    "// - We do not need a class instantiation in Rust to write a simple function\n",
    "\n",
    "// special thanks to ecvxr kernel for the notebook environment\n"
   ]
  },
  {
   "cell_type": "markdown",
   "metadata": {},
   "source": []
  },
  {
   "cell_type": "code",
   "execution_count": 6,
   "metadata": {
    "vscode": {
     "languageId": "rust"
    }
   },
   "outputs": [
    {
     "name": "stdout",
     "output_type": "stream",
     "text": [
      "[\"John entered first\", \"Mary entered second\", \"Steve entered third, if steve is removed in next step then we will not see this\"]\n"
     ]
    }
   ],
   "source": []
  },
  {
   "cell_type": "markdown",
   "metadata": {},
   "source": [
    "#### R0003 Stack Operations in Rust"
   ]
  },
  {
   "cell_type": "code",
   "execution_count": 2,
   "metadata": {
    "vscode": {
     "languageId": "rust"
    }
   },
   "outputs": [
    {
     "name": "stdout",
     "output_type": "stream",
     "text": [
      "Top of stack: Sam\n",
      "Is stack empty? false\n",
      "Popped: Sam\n",
      "Popped again: Steve\n",
      "Is stack empty now? true\n"
     ]
    }
   ],
   "source": []
  }
 ],
 "metadata": {
  "kernelspec": {
   "display_name": "Rust",
   "language": "rust",
   "name": "rust"
  },
  "language_info": {
   "codemirror_mode": "rust",
   "file_extension": ".rs",
   "mimetype": "text/rust",
   "name": "Rust",
   "pygment_lexer": "rust",
   "version": ""
  }
 },
 "nbformat": 4,
 "nbformat_minor": 2
}
