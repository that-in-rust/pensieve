{
 "cells": [
  {
   "cell_type": "markdown",
   "metadata": {},
   "source": [
    "#### J0001 Hello World in Java\n"
   ]
  },
  {
   "cell_type": "code",
   "execution_count": 3,
   "metadata": {},
   "outputs": [
    {
     "name": "stdout",
     "output_type": "stream",
     "text": [
      "Lumos! Hello, World from Java!\n",
      "✨ The magic of syntax highlighting in Java! ✨\n"
     ]
    }
   ],
   "source": [
    "public class HelloWorldLumos {\n",
    "    \n",
    "    // Main method to execute the program\n",
    "    public static void main(String[] args) {\n",
    "        System.out.println(\"Lumos! Hello, World from Java!\");\n",
    "        \n",
    "        // Call the illuminate method\n",
    "        illuminate();\n",
    "    }\n",
    "    \n",
    "    // A simple utility method to \"illuminate\" the console with a message\n",
    "    public static void illuminate() {\n",
    "        System.out.println(\"✨ The magic of syntax highlighting in Java! ✨\");\n",
    "    }\n",
    "}\n",
    "\n",
    "HelloWorldLumos.main(null);"
   ]
  }
 ],
 "metadata": {
  "kernelspec": {
   "display_name": "Java",
   "language": "java",
   "name": "java"
  },
  "language_info": {
   "codemirror_mode": "java",
   "file_extension": ".java",
   "mimetype": "text/x-java-source",
   "name": "java",
   "pygments_lexer": "java",
   "version": "17.0.12+7-Ubuntu-1ubuntu222.04"
  }
 },
 "nbformat": 4,
 "nbformat_minor": 2
}
