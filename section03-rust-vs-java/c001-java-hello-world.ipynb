{
 "cells": [
  {
   "cell_type": "markdown",
   "metadata": {},
   "source": [
    "#### J0001 Hello World in Java\n"
   ]
  },
  {
   "cell_type": "code",
   "execution_count": 1,
   "metadata": {},
   "outputs": [
    {
     "name": "stdout",
     "output_type": "stream",
     "text": [
      "Hello World\n"
     ]
    }
   ],
   "source": [
    "/*Write basic Java Program for printing Hello World*/\n",
    "\n",
    "public class HelloWorld {\n",
    "    public static void main(String[] args) {\n",
    "        System.out.println(\"Hello World\");\n",
    "    }\n",
    "}\n",
    "\n",
    "// Call the main method to run in the cell\n",
    "HelloWorld.main(null);\n",
    "\n",
    "// Java vs Rust:\n",
    "// - Entry point: public static void main(String[] args) vs fn main()\n",
    "// - Printing: System.out.println() method vs println!() macro\n",
    "// - Class structure: Required in Java, not needed in Rust for simple programs\n",
    "// - Semicolons: Required after each statement in Java, optional for last expression in Rust\n",
    "\n",
    "// special thanks to iJava kernel for the notebook environment"
   ]
  }
 ],
 "metadata": {
  "kernelspec": {
   "display_name": "Java",
   "language": "java",
   "name": "java"
  },
  "language_info": {
   "codemirror_mode": "java",
   "file_extension": ".java",
   "mimetype": "text/x-java-source",
   "name": "java",
   "pygments_lexer": "java",
   "version": "11.0.24+8-post-Ubuntu-1ubuntu322.04"
  }
 },
 "nbformat": 4,
 "nbformat_minor": 2
}
