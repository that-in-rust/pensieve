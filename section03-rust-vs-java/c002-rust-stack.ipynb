{
 "cells": [
  {
   "cell_type": "markdown",
   "metadata": {},
   "source": [
    "#### R0002 Stack in Rust"
   ]
  },
  {
   "cell_type": "code",
   "execution_count": 2,
   "metadata": {},
   "outputs": [
    {
     "name": "stdout",
     "output_type": "stream",
     "text": [
      "[\"John entered first\", \"Mary entered second\"]\n"
     ]
    }
   ],
   "source": [
    "use std::collections::VecDeque;\n",
    "\n",
    "fn main() {\n",
    "    // Using VecDeque over Vec for stack: more efficient for both ends, idiomatic for double-ended queue ops\n",
    "    let mut stack = VecDeque::new(); // Rust's VecDeque as a stack\n",
    "\n",
    "    // Push ops (Rust uses push_back for stack behavior)\n",
    "    stack.push_back(\"John entered first\".to_string());\n",
    "    stack.push_back(\"Mary entered second\".to_string());\n",
    "    stack.push_back(\"Steve entered third, if steve is removed in next step then we will not see this\".to_string());\n",
    "\n",
    "    stack.pop_back(); // Pop op removes 'Steve'\n",
    "    println!(\"{:?}\", stack); // Prints: [\"John entered first\", \"Mary entered second\"]\n",
    "}\n",
    "\n",
    "main();\n",
    "\n",
    "\n"
   ]
  },
  {
   "cell_type": "code",
   "execution_count": 4,
   "metadata": {},
   "outputs": [],
   "source": [
    "\n",
    "// Rust vs Java:\n",
    "// - No explicit type declaration needed: Rust's powerful type inference figures out types automatically\n",
    "// - String literals (\"...\") are converted to owned String objects:\n",
    "//   - Owned means we have full control over the memory\n",
    "//   - No garbage collection (GC) - Rust's ownership system manages memory efficiently\n",
    "//   - .to_string() method creates a heap-allocated String from a string literal\n",
    "// - This approach gives us both safety and performance without a GC overhead\n",
    "// - VecDeque instead of Stack (more flexible, can be used as queue too)\n",
    "// - push_back/pop_back methods vs push/pop (clearer about which end we're using)\n",
    "// - Printing uses {:?} for debug output (way cooler than Java's toString())"
   ]
  },
  {
   "cell_type": "code",
   "execution_count": 3,
   "metadata": {},
   "outputs": [
    {
     "name": "stdout",
     "output_type": "stream",
     "text": [
      "Top of stack: Sam\n",
      "Is stack empty? false\n",
      "Popped: Sam\n",
      "Popped again: Steve\n",
      "Is stack empty now? true\n"
     ]
    }
   ],
   "source": [
    "use std::collections::VecDeque;\n",
    "\n",
    "fn main() {\n",
    "    let mut stack = VecDeque::new();\n",
    "    \n",
    "    // In Rust, we're pushing owned Strings, not references\n",
    "    stack.push_back(\"Steve\".to_string());\n",
    "    stack.push_back(\"Sam\".to_string());\n",
    "    // In Java, you'd use peek() to look at the top item. In Rust, we use back():\n",
    "    match stack.back() {\n",
    "        Some(top) => println!(\"Top of stack: {}\", top), // If there's an item\n",
    "        None => println!(\"Stack is empty\"),             // If stack is empty\n",
    "    }\n",
    "\n",
    "    // Checking if stack is empty (similar to Java's isEmpty())\n",
    "    println!(\"Is stack empty? {}\", stack.is_empty());\n",
    "\n",
    "    // In Java, pop() returns the item. In Rust, pop_back() returns an Option:\n",
    "    match stack.pop_back() {\n",
    "        Some(item) => println!(\"Popped: {}\", item), // If we popped something\n",
    "        None => println!(\"Can't pop, stack empty\"), // If stack was already empty\n",
    "    }\n",
    "    \n",
    "    // Let's pop again\n",
    "    if let Some(item) = stack.pop_back() {\n",
    "        println!(\"Popped again: {}\", item);\n",
    "    }\n",
    "\n",
    "    println!(\"Is stack empty now? {}\", stack.is_empty());\n",
    "}\n",
    "\n",
    "main();\n",
    "\n",
    "\n"
   ]
  },
  {
   "cell_type": "code",
   "execution_count": null,
   "metadata": {},
   "outputs": [],
   "source": [
    "// Explaining Rust's Option for Java devs:\n",
    "// 1. Option is like a box that might have something inside\n",
    "// 2. It's either Some(value) or None, no null allowed!\n",
    "// 3. You must check what's inside before using it\n",
    "// 4. This prevents null pointer exceptions entirely\n",
    "// 5. The compiler makes sure you handle both cases\n",
    "\n",
    "// How Option helps:\n",
    "// - No more NullPointerException surprises\n",
    "// - Code clearly shows which values might be missing\n",
    "// - Forced to handle \"nothing\" case, making code more robust"
   ]
  }
 ],
 "metadata": {
  "kernelspec": {
   "display_name": "Rust",
   "language": "rust",
   "name": "rust"
  },
  "language_info": {
   "codemirror_mode": "rust",
   "file_extension": ".rs",
   "mimetype": "text/rust",
   "name": "rust",
   "pygment_lexer": "rust",
   "version": ""
  }
 },
 "nbformat": 4,
 "nbformat_minor": 2
}
