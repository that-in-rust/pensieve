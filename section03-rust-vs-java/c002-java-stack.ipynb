{
 "cells": [
  {
   "cell_type": "code",
   "execution_count": 1,
   "metadata": {
    "vscode": {
     "languageId": "java"
    }
   },
   "outputs": [
    {
     "name": "stdout",
     "output_type": "stream",
     "text": [
      "[John entered first, Mary entered second]\n"
     ]
    }
   ],
   "source": [
    "import java.util.Stack;\n",
    "\n",
    "public class StackExample {\n",
    "    public static void main(String[] args) {\n",
    "        Stack<String> stack = new Stack<>(); // Java: Stack class, Rust: VecDeque for more flexibility\n",
    "\n",
    "        // Push operations\n",
    "        stack.push(\"John entered first\");\n",
    "        stack.push(\"Mary entered second\");\n",
    "        stack.push(\"Steve entered third\");\n",
    "        // Java: push() method, Rust: push_back() for stack behavior\n",
    "\n",
    "        stack.pop(); // Pop operation removes 'Steve'\n",
    "        // Java: pop() method, Rust: pop_back() for explicit end usage\n",
    "\n",
    "        System.out.println(stack); // Outputs: [John entered first, Mary entered second]\n",
    "        // Java: println() method, Rust: println!() macro with {:?} for debug output\n",
    "    }\n",
    "}\n",
    "\n",
    "StackExample.main(null);\n",
    "\n",
    "// Java vs Rust differences:\n",
    "// - Java requires explicit type declaration, Rust uses type inference\n",
    "// - Java uses Stack class, Rust prefers VecDeque for double-ended queue operations\n",
    "// - Java strings are immutable objects, Rust uses owned String objects\n",
    "// - Java relies on garbage collection, Rust manages memory manually\n",
    "// - Java requires semicolons after each statement, Rust makes them optional for last expression"
   ]
  },
  {
   "cell_type": "markdown",
   "metadata": {},
   "source": []
  },
  {
   "cell_type": "code",
   "execution_count": null,
   "metadata": {
    "vscode": {
     "languageId": "java"
    }
   },
   "outputs": [],
   "source": [
    "public class StackOperations {\n",
    "    public static void main(String[] args) {\n",
    "        Stack<String> stack = new Stack<>();\n",
    "        stack.push(\"Steve\");\n",
    "        stack.push(\"Sam\");\n",
    "        \n",
    "        // peek() allows inspecting the top element without modifying the stack\n",
    "        // This is useful for checking the latest element without removing it\n",
    "        System.out.println(stack.peek()); // Outputs: 'Sam'\n",
    "\n",
    "        // empty() provides a quick way to check if the stack has any elements\n",
    "        // This is more efficient than checking size() == 0 for large collections\n",
    "        System.out.println(stack.empty()); // Outputs: false\n",
    "        stack.pop(); // Remove 'Sam'\n",
    "        stack.pop(); // Remove 'Steve'\n",
    "        System.out.println(\"Is stack empty now?  This is the question\" + stack.empty()); // Outputs: true\n",
    "    }\n",
    "}\n",
    "\n",
    "StackOperations.main(null);\n"
   ]
  }
 ],
 "metadata": {
  "kernelspec": {
   "display_name": "Java",
   "language": "java",
   "name": "java"
  },
  "language_info": {
   "codemirror_mode": "java",
   "file_extension": ".java",
   "mimetype": "text/x-java-source",
   "name": "Java",
   "pygments_lexer": "java",
   "version": "11.0.24+8-post-Ubuntu-1ubuntu322.04"
  }
 },
 "nbformat": 4,
 "nbformat_minor": 2
}
