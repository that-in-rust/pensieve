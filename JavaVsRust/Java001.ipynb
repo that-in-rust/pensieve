{
 "cells": [
  {
   "cell_type": "markdown",
   "metadata": {},
   "source": [
    "#### J0001 Hello World in Java\n"
   ]
  },
  {
   "cell_type": "code",
   "execution_count": 3,
   "metadata": {},
   "outputs": [
    {
     "name": "stdout",
     "output_type": "stream",
     "text": [
      "Hello World\n"
     ]
    }
   ],
   "source": [
    "/*Write basic Java Program for printing Hello World*/\n",
    "\n",
    "public class HelloWorld {\n",
    "    public static void main(String[] args) {\n",
    "        System.out.println(\"Hello World\");\n",
    "    }\n",
    "}\n",
    "\n",
    "// Call the main method to run in the cell\n",
    "HelloWorld.main(null);\n",
    "\n",
    "// Java vs Rust:\n",
    "// - Entry point: public static void main(String[] args) vs fn main()\n",
    "// - Printing: System.out.println() method vs println!() macro\n",
    "// - Class structure: Required in Java, not needed in Rust for simple programs\n",
    "// - Semicolons: Required after each statement in Java, optional for last expression in Rust\n",
    "\n",
    "// special thanks to iJava kernel for the notebook environment"
   ]
  },
  {
   "cell_type": "markdown",
   "metadata": {},
   "source": [
    "#### J0002 Stack in Java"
   ]
  },
  {
   "cell_type": "code",
   "execution_count": 10,
   "metadata": {},
   "outputs": [
    {
     "name": "stdout",
     "output_type": "stream",
     "text": [
      "[John entered first, Mary entered second]\n"
     ]
    }
   ],
   "source": [
    "import java.util.Stack;\n",
    "\n",
    "public class StackExample {\n",
    "    public static void main(String[] args) {\n",
    "        Stack<String> stack = new Stack<>(); // Java: Stack class, Rust: VecDeque for more flexibility\n",
    "\n",
    "        // Push operations\n",
    "        stack.push(\"John entered first\");\n",
    "        stack.push(\"Mary entered second\");\n",
    "        stack.push(\"Steve entered third\");\n",
    "        // Java: push() method, Rust: push_back() for stack behavior\n",
    "\n",
    "        stack.pop(); // Pop operation removes 'Steve'\n",
    "        // Java: pop() method, Rust: pop_back() for explicit end usage\n",
    "\n",
    "        System.out.println(stack); // Outputs: [John entered first, Mary entered second]\n",
    "        // Java: println() method, Rust: println!() macro with {:?} for debug output\n",
    "    }\n",
    "}\n",
    "\n",
    "StackExample.main(null);\n",
    "\n",
    "// Java vs Rust differences:\n",
    "// - Java requires explicit type declaration, Rust uses type inference\n",
    "// - Java uses Stack class, Rust prefers VecDeque for double-ended queue operations\n",
    "// - Java strings are immutable objects, Rust uses owned String objects\n",
    "// - Java relies on garbage collection, Rust manages memory manually\n",
    "// - Java requires semicolons after each statement, Rust makes them optional for last expression"
   ]
  },
  {
   "cell_type": "markdown",
   "metadata": {},
   "source": [
    "#### J0003 Stack Operations in Java"
   ]
  },
  {
   "cell_type": "code",
   "execution_count": 16,
   "metadata": {},
   "outputs": [
    {
     "name": "stdout",
     "output_type": "stream",
     "text": [
      "Sam\n",
      "false\n",
      "Is stack empty? after popping it twice with Sam and Steve pushed outtrue\n"
     ]
    }
   ],
   "source": [
    "public class StackOperations {\n",
    "    public static void main(String[] args) {\n",
    "        Stack<String> stack = new Stack<>();\n",
    "        stack.push(\"Steve\");\n",
    "        stack.push(\"Sam\");\n",
    "        \n",
    "        // peek() allows inspecting the top element without modifying the stack\n",
    "        // This is useful for checking the latest element without removing it\n",
    "        System.out.println(stack.peek()); // Outputs: 'Sam'\n",
    "\n",
    "        // empty() provides a quick way to check if the stack has any elements\n",
    "        // This is more efficient than checking size() == 0 for large collections\n",
    "        System.out.println(stack.empty()); // Outputs: false\n",
    "        stack.pop(); // Remove 'Sam'\n",
    "        stack.pop(); // Remove 'Steve'\n",
    "        System.out.println(\"Is stack empty? after popping it twice with Sam and Steve pushed out\" + stack.empty()); // Outputs: true\n",
    "    }\n",
    "}\n",
    "\n",
    "StackOperations.main(null);\n"
   ]
  }
 ],
 "metadata": {
  "kernelspec": {
   "display_name": "Java",
   "language": "java",
   "name": "java"
  },
  "language_info": {
   "codemirror_mode": "java",
   "file_extension": ".java",
   "mimetype": "text/x-java-source",
   "name": "java",
   "pygments_lexer": "java",
   "version": "11.0.24+8-post-Ubuntu-1ubuntu322.04"
  }
 },
 "nbformat": 4,
 "nbformat_minor": 2
}
