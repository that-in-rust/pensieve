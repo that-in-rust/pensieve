{
 "cells": [
  {
   "cell_type": "markdown",
   "metadata": {},
   "source": [
    "### Eg 0001 Hello World\n"
   ]
  },
  {
   "cell_type": "code",
   "execution_count": 2,
   "metadata": {
    "vscode": {
     "languageId": "java"
    }
   },
   "outputs": [
    {
     "name": "stdout",
     "output_type": "stream",
     "text": [
      "Hello World\n"
     ]
    }
   ],
   "source": [
    "/*Write basic Java Program for printing Hello World*/\n",
    "\n",
    "public class HelloWorld {\n",
    "    public static void main(String[] args) {\n",
    "        System.out.println(\"Hello World\");\n",
    "    }\n",
    "}\n",
    "\n",
    "// Call the main method to run in the cell\n",
    "HelloWorld.main(null);\n",
    "\n",
    "// Java vs Rust:\n",
    "// - Entry point: public static void main(String[] args) vs fn main()\n",
    "// - Printing: System.out.println() method vs println!() macro\n",
    "// - Class structure: Required in Java, not needed in Rust for simple programs\n",
    "// - Semicolons: Required after each statement in Java, optional for last expression in Rust"
   ]
  },
  {
   "cell_type": "markdown",
   "metadata": {},
   "source": [
    "## Java Stack"
   ]
  },
  {
   "cell_type": "code",
   "execution_count": 2,
   "metadata": {
    "vscode": {
     "languageId": "java"
    }
   },
   "outputs": [
    {
     "name": "stdout",
     "output_type": "stream",
     "text": [
      "[John entered first, Mary entered second]\n"
     ]
    }
   ],
   "source": [
    "import java.util.Stack;\n",
    "\n",
    "public class StackExample {\n",
    "    public static void main(String[] args) {\n",
    "        Stack<String> stack = new Stack<>(); // A new empty stack\n",
    "\n",
    "        // Push operations\n",
    "        stack.push(\"John entered first\");\n",
    "        stack.push(\"Mary entered second\");\n",
    "        stack.push(\"Steve entered third\");\n",
    "\n",
    "        stack.pop(); // Pop operation removes 'Steve'\n",
    "        System.out.println(stack); // Outputs: [John, Mary]\n",
    "    }\n",
    "}\n",
    "\n",
    "StackExample.main(null);"
   ]
  },
  {
   "cell_type": "raw",
   "metadata": {},
   "source": []
  },
  {
   "cell_type": "raw",
   "metadata": {},
   "source": []
  }
 ],
 "metadata": {
  "kernelspec": {
   "display_name": "Java",
   "language": "java",
   "name": "java"
  },
  "language_info": {
   "codemirror_mode": "java",
   "file_extension": ".java",
   "mimetype": "text/x-java-source",
   "name": "Java",
   "pygments_lexer": "java",
   "version": "11.0.24+8-post-Ubuntu-1ubuntu322.04"
  }
 },
 "nbformat": 4,
 "nbformat_minor": 2
}
