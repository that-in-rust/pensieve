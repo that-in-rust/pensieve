{
 "cells": [
  {
   "cell_type": "markdown",
   "metadata": {},
   "source": [
    "#### R0001 Hello World in Rust"
   ]
  },
  {
   "cell_type": "code",
   "execution_count": 2,
   "metadata": {
    "vscode": {
     "languageId": "rust"
    }
   },
   "outputs": [
    {
     "name": "stdout",
     "output_type": "stream",
     "text": [
      "Hello World\n"
     ]
    }
   ],
   "source": [
    "// Rust version of Hello World\n",
    "\n",
    "fn main() {\n",
    "    println!(\"Hello World\");\n",
    "}\n",
    "\n",
    "// Rust vs Java:\n",
    "// - Entry point: fn main() vs public static void main(String[] args)\n",
    "// - Printing: println!() macro vs System.out.println() method\n",
    "// - Semicolons: Optional for last expression vs Required after each statement\n",
    "// - We do not a class instantiation in Rust to write a simple function\n",
    "\n",
    "\n",
    "// Run it!\n",
    "main();\n"
   ]
  },
  {
   "cell_type": "markdown",
   "metadata": {},
   "source": [
    "#### R0002 Stack in Rust"
   ]
  }
 ],
 "metadata": {
  "kernelspec": {
   "display_name": "Rust",
   "language": "rust",
   "name": "rust"
  },
  "language_info": {
   "codemirror_mode": "rust",
   "file_extension": ".rs",
   "mimetype": "text/rust",
   "name": "Rust",
   "pygment_lexer": "rust",
   "version": ""
  }
 },
 "nbformat": 4,
 "nbformat_minor": 2
}
