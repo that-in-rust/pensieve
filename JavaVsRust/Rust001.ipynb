{
 "cells": [
  {
   "cell_type": "markdown",
   "metadata": {},
   "source": [
    "### Eg 0001 Hello World"
   ]
  },
  {
   "cell_type": "code",
   "execution_count": 2,
   "metadata": {
    "vscode": {
     "languageId": "rust"
    }
   },
   "outputs": [
    {
     "name": "stdout",
     "output_type": "stream",
     "text": [
      "Hello World\n"
     ]
    }
   ],
   "source": [
    "// Rust version of Hello World\n",
    "\n",
    "fn main() {\n",
    "    println!(\"Hello World\");\n",
    "}\n",
    "\n",
    "// Rust vs Java:\n",
    "// - Entry point: fn main() vs public static void main(String[] args)\n",
    "// - Printing: println!() macro vs System.out.println() method\n",
    "// - Semicolons: Optional for last expression vs Required after each statement\n",
    "\n",
    "// Run it!\n",
    "main();\n"
   ]
  }
 ],
 "metadata": {
  "kernelspec": {
   "display_name": "Rust",
   "language": "rust",
   "name": "rust"
  },
  "language_info": {
   "codemirror_mode": "rust",
   "file_extension": ".rs",
   "mimetype": "text/rust",
   "name": "Rust",
   "pygment_lexer": "rust",
   "version": ""
  }
 },
 "nbformat": 4,
 "nbformat_minor": 2
}
