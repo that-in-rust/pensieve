{
 "cells": [
  {
   "cell_type": "markdown",
   "metadata": {},
   "source": [
    "#### R0001 Hello World in Rust"
   ]
  },
  {
   "cell_type": "code",
   "execution_count": 3,
   "metadata": {
    "vscode": {
     "languageId": "rust"
    }
   },
   "outputs": [
    {
     "name": "stdout",
     "output_type": "stream",
     "text": [
      "Hello World\n"
     ]
    }
   ],
   "source": [
    "// Rust version of Hello World\n",
    "\n",
    "fn main() {\n",
    "    println!(\"Hello World\");\n",
    "}\n",
    "\n",
    "\n",
    "// Run it!\n",
    "main();\n",
    "\n",
    "// Rust vs Java:\n",
    "// - Entry point: fn main() vs public static void main(String[] args)\n",
    "// - Printing: println!() macro vs System.out.println() method\n",
    "// - Semicolons: Optional for last expression vs Required after each statement\n",
    "// - We do not need a class instantiation in Rust to write a simple function\n",
    "\n",
    "// special thanks to ecvxr kernel for the notebook environment\n"
   ]
  },
  {
   "cell_type": "markdown",
   "metadata": {},
   "source": [
    "#### R0002 Stack in Rust"
   ]
  },
  {
   "cell_type": "code",
   "execution_count": 8,
   "metadata": {
    "vscode": {
     "languageId": "rust"
    }
   },
   "outputs": [
    {
     "name": "stdout",
     "output_type": "stream",
     "text": [
      "[\"John entered first\", \"Mary entered second\"]\n"
     ]
    }
   ],
   "source": [
    "use std::collections::VecDeque;\n",
    "\n",
    "fn main() {\n",
    "    // Using VecDeque over Vec for stack: more efficient for both ends, idiomatic for double-ended queue ops\n",
    "    let mut stack = VecDeque::new(); // Rust's VecDeque as a stack\n",
    "\n",
    "    // Push ops (Rust uses push_back for stack behavior)\n",
    "    stack.push_back(\"John entered first\".to_string());\n",
    "    stack.push_back(\"Mary entered second\".to_string());\n",
    "    stack.push_back(\"Steve entered third\".to_string());\n",
    "\n",
    "    stack.pop_back(); // Pop op removes 'Steve'\n",
    "    println!(\"{:?}\", stack); // Prints: [\"John entered first\", \"Mary entered second\"]\n",
    "}\n",
    "\n",
    "main();\n",
    "\n",
    "// Rust vs Java:\n",
    "// - No explicit type declaration needed: Rust's powerful type inference figures out types automatically\n",
    "// - String literals (\"...\") are converted to owned String objects:\n",
    "//   - Owned means we have full control over the memory\n",
    "//   - No garbage collection (GC) - Rust's ownership system manages memory efficiently\n",
    "//   - .to_string() method creates a heap-allocated String from a string literal\n",
    "// - This approach gives us both safety and performance without a GC overhead\n",
    "// - VecDeque instead of Stack (more flexible, can be used as queue too)\n",
    "// - push_back/pop_back methods vs push/pop (clearer about which end we're using)\n",
    "// - Printing uses {:?} for debug output (way cooler than Java's toString())\n",
    "\n"
   ]
  },
  {
   "cell_type": "markdown",
   "metadata": {},
   "source": [
    "#### R0003 Stack Operations in Rust"
   ]
  },
  {
   "cell_type": "code",
   "execution_count": null,
   "metadata": {
    "vscode": {
     "languageId": "rust"
    }
   },
   "outputs": [],
   "source": [
    "use std::collections::VecDeque;\n",
    "\n",
    "fn main() {\n",
    "    let mut stack = VecDeque::new();\n",
    "    \n",
    "    // In Rust, we're pushing owned Strings, not references\n",
    "    stack.push_back(\"Steve\".to_string());\n",
    "    stack.push_back(\"Sam\".to_string());\n",
    "    \n",
    "    // Rust's peek returns an Option, so we use if let for safe access\n",
    "    if let Some(top) = stack.back() {\n",
    "        println!(\"Top of the stack: {}\", top); // Outputs: 'Sam'\n",
    "    }\n",
    "\n",
    "    // Rust doesn't have a direct 'empty' method, we use is_empty() instead\n",
    "    println!(\"Is stack empty? {}\", stack.is_empty()); // Outputs: false\n",
    "    \n",
    "    // Pop in Rust returns an Option, we're ignoring the result here\n",
    "    stack.pop_back(); // Remove 'Sam'\n",
    "    stack.pop_back(); // Remove 'Steve'\n",
    "    \n",
    "    // Look ma, no semicolon! Last expression is implicitly returned\n",
    "    println!(\"Is stack empty after popping twice? {}\", stack.is_empty()) // Outputs: true\n",
    "}\n",
    "\n",
    "// Hey Java, watch this!\n",
    "main();\n",
    "\n",
    "// Cool Rust things to note:\n",
    "// 1. No explicit types needed - Rust's type inference is wicked smart\n",
    "// 2. We use VecDeque instead of a specific Stack type - more flexible!\n",
    "// 3. push_back and pop_back make it clear we're using it as a stack\n",
    "// 4. No null checks needed - Rust's Option type keeps us safe\n",
    "// 5. No try-catch needed - Rust's Result type handles errors elegantly\n",
    "// 6. No garbage collection - Rust's ownership system keeps memory tidy\n"
   ]
  }
 ],
 "metadata": {
  "kernelspec": {
   "display_name": "Rust",
   "language": "rust",
   "name": "rust"
  },
  "language_info": {
   "codemirror_mode": "rust",
   "file_extension": ".rs",
   "mimetype": "text/rust",
   "name": "Rust",
   "pygment_lexer": "rust",
   "version": ""
  }
 },
 "nbformat": 4,
 "nbformat_minor": 2
}
