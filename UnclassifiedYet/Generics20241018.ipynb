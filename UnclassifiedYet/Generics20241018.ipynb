{
 "cells": [
  {
   "cell_type": "markdown",
   "metadata": {},
   "source": [
    "## Generics"
   ]
  },
  {
   "cell_type": "code",
   "execution_count": 2,
   "metadata": {
    "vscode": {
     "languageId": "rust"
    }
   },
   "outputs": [
    {
     "name": "stdout",
     "output_type": "stream",
     "text": [
      "Let's gently explore this generic function, shall we?\n",
      "At its core, it's about flexibility. T can be various types.\n",
      "\n",
      "Now, let's softly delve into the details:\n",
      "- T represents types that work with addition, such as i32 or f64.\n",
      "- We use the std::ops::Add trait, which simply means the type can use '+'.\n",
      "- <Output = T> ensures our output matches our input type.\n",
      "\n",
      "Going a bit deeper:\n",
      "- We accept two parameters of type T.\n",
      "- We perform an addition.\n",
      "- We return a value of the same type.\n",
      "\n",
      "It's a calm way to write adaptable code. Isn't that nice?\n",
      "Sum of integers: 15\n",
      "Sum using generic (integers): 15\n",
      "Sum using generic (floats): 6\n"
     ]
    }
   ],
   "source": [
    "// Example showing difference between generic and non-generic function\n",
    "\n",
    "// Non-generic function\n",
    "fn add_integers(a: i32, b: i32) -> i32 {\n",
    "    a + b\n",
    "}\n",
    "\n",
    "// Generic function\n",
    "fn add_generic<T: std::ops::Add <Output = T>>(a: T, b: T) -> T {\n",
    "    //    ↑        ↑                         ↑  ↑     ↑\n",
    "    //    │        │                         │  │     └─ Return type (same as input)\n",
    "    //    │        │                         │  └─ Parameters of type T\n",
    "    //    │        │                         └─ Function name\n",
    "    //    │        └─ Trait bound: T must implement Add\n",
    "    //    └─ Type parameter T\n",
    "    a + b  // Uses the Add trait's add method\n",
    "}\n",
    "println!(\"Let's gently explore this generic function, shall we?\\n\\\n",
    "          At its core, it's about flexibility. T can be various types.\\n\\\n",
    "          \\n\\\n",
    "          Now, let's softly delve into the details:\\n\\\n",
    "          - T represents types that work with addition, such as i32 or f64.\\n\\\n",
    "          - We use the std::ops::Add trait, which simply means the type can use '+'.\\n\\\n",
    "          - <Output = T> ensures our output matches our input type.\\n\\\n",
    "          \\n\\\n",
    "          Going a bit deeper:\\n\\\n",
    "          - We accept two parameters of type T.\\n\\\n",
    "          - We perform an addition.\\n\\\n",
    "          - We return a value of the same type.\\n\\\n",
    "          \\n\\\n",
    "          \");\n",
    "\n",
    "// 💡 Insight: Generics allow us to write flexible, reusable code\n",
    "// 🏗️ Design Choice: Using traits as bounds ensures type safety\n",
    "// 📊 Excel Analogy: Like a formula that works with any numeric column\n",
    "\n",
    "fn main() {\n",
    "    // Using non-generic function\n",
    "    let sum_int = add_integers(5, 10);\n",
    "    println!(\"Sum of integers: {}\", sum_int);\n",
    "\n",
    "    // Using generic function with integers\n",
    "    let sum_generic_int = add_generic(5, 10);\n",
    "    println!(\"Sum using generic (integers): {}\", sum_generic_int);\n",
    "\n",
    "    // Using generic function with floats\n",
    "    let sum_generic_float = add_generic(3.14, 2.86);\n",
    "    println!(\"Sum using generic (floats): {}\", sum_generic_float);\n",
    "}\n",
    "\n",
    "// we must run the main function to execute the code\n",
    "\n",
    "main();"
   ]
  }
 ],
 "metadata": {
  "kernelspec": {
   "display_name": "Rust",
   "language": "rust",
   "name": "rust"
  },
  "language_info": {
   "codemirror_mode": "rust",
   "file_extension": ".rs",
   "mimetype": "text/rust",
   "name": "Rust",
   "pygment_lexer": "rust",
   "version": ""
  }
 },
 "nbformat": 4,
 "nbformat_minor": 2
}
