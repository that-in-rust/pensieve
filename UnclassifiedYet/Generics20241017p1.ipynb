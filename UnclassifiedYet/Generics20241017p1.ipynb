{
 "cells": [
  {
   "cell_type": "markdown",
   "metadata": {},
   "source": [
    "## Generics"
   ]
  },
  {
   "cell_type": "code",
   "execution_count": 2,
   "metadata": {
    "vscode": {
     "languageId": "rust"
    }
   },
   "outputs": [
    {
     "name": "stdout",
     "output_type": "stream",
     "text": [
      "Let's gently explore this generic function, shall we?\n",
      "At its core, it's about flexibility. T can be various types.\n",
      "\n",
      "Now, let's softly delve into the details:\n",
      "- T represents types that work with addition, such as i32 or f64.\n",
      "- We use the std::ops::Add trait, which simply means the type can use '+'.\n",
      "- <Output = T> ensures our output matches our input type.\n",
      "\n",
      "Going a bit deeper:\n",
      "- We accept two parameters of type T.\n",
      "- We perform an addition.\n",
      "- We return a value of the same type.\n",
      "\n",
      "It's a calm way to write adaptable code. Isn't that nice?\n",
      "Sum of integers: 15\n",
      "Sum using generic (integers): 15\n",
      "Sum using generic (floats): 6\n"
     ]
    }
   ],
   "source": [
    "// Example showing difference between generic and non-generic function\n",
    "\n",
    "// Non-generic function\n",
    "fn add_integers(a: i32, b: i32) -> i32 {\n",
    "    a + b\n",
    "}\n",
    "\n",
    "// Generic function\n",
    "fn add_generic<T: std::ops::Add <Output = T>>(a: T, b: T) -> T {\n",
    "    //    ↑        ↑                         ↑  ↑     ↑\n",
    "    //    │        │                         │  │     └─ Return type (same as input)\n",
    "    //    │        │                         │  └─ Parameters of type T\n",
    "    //    │        │                         └─ Function name\n",
    "    //    │        └─ Trait bound: T must implement Add\n",
    "    //    └─ Type parameter T\n",
    "    a + b  // Uses the Add trait's add method\n",
    "}\n",
    "println!(\"Let's gently explore this generic function, shall we?\\n\\\n",
    "          At its core, it's about flexibility. T can be various types.\\n\\\n",
    "          \\n\\\n",
    "          Now, let's softly delve into the details:\\n\\\n",
    "          - T represents types that work with addition, such as i32 or f64.\\n\\\n",
    "          - We use the std::ops::Add trait, which simply means the type can use '+'.\\n\\\n",
    "          - <Output = T> ensures our output matches our input type.\\n\\\n",
    "          \\n\\\n",
    "          Going a bit deeper:\\n\\\n",
    "          - We accept two parameters of type T.\\n\\\n",
    "          - We perform an addition.\\n\\\n",
    "          - We return a value of the same type.\\n\\\n",
    "          \\n\\\n",
    "          \");\n",
    "\n",
    "// 💡 Insight: Generics allow us to write flexible, reusable code\n",
    "// 🏗️ Design Choice: Using traits as bounds ensures type safety\n",
    "// 📊 Excel Analogy: Like a formula that works with any numeric column\n",
    "\n",
    "fn main() {\n",
    "    // Using non-generic function\n",
    "    let sum_int = add_integers(5, 10);\n",
    "    println!(\"Sum of integers: {}\", sum_int);\n",
    "\n",
    "    // Using generic function with integers\n",
    "    let sum_generic_int = add_generic(5, 10);\n",
    "    println!(\"Sum using generic (integers): {}\", sum_generic_int);\n",
    "\n",
    "    // Using generic function with floats\n",
    "    let sum_generic_float = add_generic(3.14, 2.86);\n",
    "    println!(\"Sum using generic (floats): {}\", sum_generic_float);\n",
    "}\n",
    "\n",
    "// we must run the main function to execute the code\n",
    "\n",
    "main();"
   ]
  },
  {
   "cell_type": "markdown",
   "metadata": {},
   "source": [
    "### So you mean you can use the same function name to perform operations on integers & floats both, as long as the trait bound constraint is satisfied?"
   ]
  },
  {
   "cell_type": "code",
   "execution_count": 4,
   "metadata": {
    "vscode": {
     "languageId": "rust"
    }
   },
   "outputs": [
    {
     "name": "stdout",
     "output_type": "stream",
     "text": [
      "Subtraction of 5 - 10 via non-generic function:-5 \n",
      "Subtraction of 5.1 - 10.5 via a generic functon:-5.4\n"
     ]
    }
   ],
   "source": [
    "fn sub_integers(a: i32, b:i32) -> i32{\n",
    "    a - b\n",
    "}\n",
    "\n",
    "fn sub_generic<T: std::ops::Sub <Output=T>> (a: T,b:T)->T{\n",
    "    a - b\n",
    "}\n",
    "\n",
    "fn main() {\n",
    "    println!(\"Subtraction of 5 - 10 via non-generic function:{} \\n\\\n",
    "    Subtraction of 5.1 - 10.5 via a generic functon:{}\",sub_integers(5,10),sub_generic(5.1,10.5));\n",
    "}\n",
    "\n",
    "main();\n"
   ]
  },
  {
   "cell_type": "markdown",
   "metadata": {},
   "source": [
    "### But how many types of types actually implement the Addition or Substraction trait?"
   ]
  },
  {
   "cell_type": "code",
   "execution_count": 10,
   "metadata": {
    "vscode": {
     "languageId": "rust"
    }
   },
   "outputs": [
    {
     "ename": "Error",
     "evalue": "cannot subtract `Point` from `Point`",
     "output_type": "error",
     "traceback": [
      "\u001b[31m[E0277] Error:\u001b[0m cannot subtract `Point` from `Point`",
      "    \u001b[38;5;246m╭\u001b[0m\u001b[38;5;246m─\u001b[0m\u001b[38;5;246m[\u001b[0mcommand_10:1:1\u001b[38;5;246m]\u001b[0m",
      "    \u001b[38;5;246m│\u001b[0m",
      " \u001b[38;5;246m14 │\u001b[0m \u001b[38;5;249mf\u001b[0m\u001b[38;5;249mn\u001b[0m\u001b[38;5;249m \u001b[0m\u001b[38;5;249ms\u001b[0m\u001b[38;5;249mu\u001b[0m\u001b[38;5;249mb\u001b[0m\u001b[38;5;249m_\u001b[0m\u001b[38;5;249mg\u001b[0m\u001b[38;5;249me\u001b[0m\u001b[38;5;249mn\u001b[0m\u001b[38;5;249me\u001b[0m\u001b[38;5;249mr\u001b[0m\u001b[38;5;249mi\u001b[0m\u001b[38;5;249mc\u001b[0m\u001b[38;5;249m<\u001b[0m\u001b[38;5;249mT\u001b[0m\u001b[38;5;249m:\u001b[0m\u001b[38;5;249m \u001b[0m\u001b[38;5;100ms\u001b[0m\u001b[38;5;100mt\u001b[0m\u001b[38;5;100md\u001b[0m\u001b[38;5;100m:\u001b[0m\u001b[38;5;100m:\u001b[0m\u001b[38;5;100mo\u001b[0m\u001b[38;5;100mp\u001b[0m\u001b[38;5;100ms\u001b[0m\u001b[38;5;100m:\u001b[0m\u001b[38;5;100m:\u001b[0m\u001b[38;5;100mS\u001b[0m\u001b[38;5;100mu\u001b[0m\u001b[38;5;100mb\u001b[0m\u001b[38;5;100m<\u001b[0m\u001b[38;5;100mO\u001b[0m\u001b[38;5;100mu\u001b[0m\u001b[38;5;100mt\u001b[0m\u001b[38;5;100mp\u001b[0m\u001b[38;5;100mu\u001b[0m\u001b[38;5;100mt\u001b[0m\u001b[38;5;100m \u001b[0m\u001b[38;5;100m=\u001b[0m\u001b[38;5;100m \u001b[0m\u001b[38;5;100mT\u001b[0m\u001b[38;5;100m>\u001b[0m\u001b[38;5;249m>\u001b[0m\u001b[38;5;249m(\u001b[0m\u001b[38;5;249ma\u001b[0m\u001b[38;5;249m:\u001b[0m\u001b[38;5;249m \u001b[0m\u001b[38;5;249mT\u001b[0m\u001b[38;5;249m,\u001b[0m\u001b[38;5;249m \u001b[0m\u001b[38;5;249mb\u001b[0m\u001b[38;5;249m:\u001b[0m\u001b[38;5;249m \u001b[0m\u001b[38;5;249mT\u001b[0m\u001b[38;5;249m)\u001b[0m\u001b[38;5;249m \u001b[0m\u001b[38;5;249m-\u001b[0m\u001b[38;5;249m>\u001b[0m\u001b[38;5;249m \u001b[0m\u001b[38;5;249mT\u001b[0m\u001b[38;5;249m \u001b[0m\u001b[38;5;249m{\u001b[0m",
      " \u001b[38;5;240m   │\u001b[0m                   \u001b[38;5;100m─\u001b[0m\u001b[38;5;100m─\u001b[0m\u001b[38;5;100m─\u001b[0m\u001b[38;5;100m─\u001b[0m\u001b[38;5;100m─\u001b[0m\u001b[38;5;100m─\u001b[0m\u001b[38;5;100m─\u001b[0m\u001b[38;5;100m─\u001b[0m\u001b[38;5;100m─\u001b[0m\u001b[38;5;100m─\u001b[0m\u001b[38;5;100m─\u001b[0m\u001b[38;5;100m─\u001b[0m\u001b[38;5;100m┬\u001b[0m\u001b[38;5;100m─\u001b[0m\u001b[38;5;100m─\u001b[0m\u001b[38;5;100m─\u001b[0m\u001b[38;5;100m─\u001b[0m\u001b[38;5;100m─\u001b[0m\u001b[38;5;100m─\u001b[0m\u001b[38;5;100m─\u001b[0m\u001b[38;5;100m─\u001b[0m\u001b[38;5;100m─\u001b[0m\u001b[38;5;100m─\u001b[0m\u001b[38;5;100m─\u001b[0m\u001b[38;5;100m─\u001b[0m  ",
      " \u001b[38;5;240m   │\u001b[0m                               \u001b[38;5;100m╰\u001b[0m\u001b[38;5;100m─\u001b[0m\u001b[38;5;100m─\u001b[0m\u001b[38;5;100m─\u001b[0m\u001b[38;5;100m─\u001b[0m\u001b[38;5;100m─\u001b[0m\u001b[38;5;100m─\u001b[0m\u001b[38;5;100m─\u001b[0m\u001b[38;5;100m─\u001b[0m\u001b[38;5;100m─\u001b[0m\u001b[38;5;100m─\u001b[0m\u001b[38;5;100m─\u001b[0m\u001b[38;5;100m─\u001b[0m\u001b[38;5;100m─\u001b[0m\u001b[38;5;100m─\u001b[0m required by this bound in `sub_generic`",
      " \u001b[38;5;240m   │\u001b[0m ",
      " \u001b[38;5;246m31 │\u001b[0m \u001b[38;5;249m \u001b[0m\u001b[38;5;249m \u001b[0m\u001b[38;5;249m \u001b[0m\u001b[38;5;249m \u001b[0m\u001b[38;5;249mp\u001b[0m\u001b[38;5;249mr\u001b[0m\u001b[38;5;249mi\u001b[0m\u001b[38;5;249mn\u001b[0m\u001b[38;5;249mt\u001b[0m\u001b[38;5;249ml\u001b[0m\u001b[38;5;249mn\u001b[0m\u001b[38;5;249m!\u001b[0m\u001b[38;5;249m(\u001b[0m\u001b[38;5;249m\"\u001b[0m\u001b[38;5;249mT\u001b[0m\u001b[38;5;249mr\u001b[0m\u001b[38;5;249my\u001b[0m\u001b[38;5;249mi\u001b[0m\u001b[38;5;249mn\u001b[0m\u001b[38;5;249mg\u001b[0m\u001b[38;5;249m \u001b[0m\u001b[38;5;249mt\u001b[0m\u001b[38;5;249mo\u001b[0m\u001b[38;5;249m \u001b[0m\u001b[38;5;249ms\u001b[0m\u001b[38;5;249mu\u001b[0m\u001b[38;5;249mb\u001b[0m\u001b[38;5;249mt\u001b[0m\u001b[38;5;249mr\u001b[0m\u001b[38;5;249ma\u001b[0m\u001b[38;5;249mc\u001b[0m\u001b[38;5;249mt\u001b[0m\u001b[38;5;249m \u001b[0m\u001b[38;5;249mP\u001b[0m\u001b[38;5;249mo\u001b[0m\u001b[38;5;249mi\u001b[0m\u001b[38;5;249mn\u001b[0m\u001b[38;5;249mt\u001b[0m\u001b[38;5;249ms\u001b[0m\u001b[38;5;249m:\u001b[0m\u001b[38;5;249m \u001b[0m\u001b[38;5;249m{\u001b[0m\u001b[38;5;249m:\u001b[0m\u001b[38;5;249m?\u001b[0m\u001b[38;5;249m}\u001b[0m\u001b[38;5;249m\"\u001b[0m\u001b[38;5;249m,\u001b[0m\u001b[38;5;249m \u001b[0m\u001b[38;5;54ms\u001b[0m\u001b[38;5;54mu\u001b[0m\u001b[38;5;54mb\u001b[0m\u001b[38;5;54m_\u001b[0m\u001b[38;5;54mg\u001b[0m\u001b[38;5;54me\u001b[0m\u001b[38;5;54mn\u001b[0m\u001b[38;5;54me\u001b[0m\u001b[38;5;54mr\u001b[0m\u001b[38;5;54mi\u001b[0m\u001b[38;5;54mc\u001b[0m\u001b[38;5;249m(\u001b[0m\u001b[38;5;249mp\u001b[0m\u001b[38;5;249m1\u001b[0m\u001b[38;5;249m,\u001b[0m\u001b[38;5;249m \u001b[0m\u001b[38;5;249mp\u001b[0m\u001b[38;5;249m2\u001b[0m\u001b[38;5;249m)\u001b[0m\u001b[38;5;249m)\u001b[0m\u001b[38;5;249m;\u001b[0m",
      " \u001b[38;5;240m   │\u001b[0m                                                 \u001b[38;5;54m─\u001b[0m\u001b[38;5;54m─\u001b[0m\u001b[38;5;54m─\u001b[0m\u001b[38;5;54m─\u001b[0m\u001b[38;5;54m─\u001b[0m\u001b[38;5;54m┬\u001b[0m\u001b[38;5;54m─\u001b[0m\u001b[38;5;54m─\u001b[0m\u001b[38;5;54m─\u001b[0m\u001b[38;5;54m─\u001b[0m\u001b[38;5;54m─\u001b[0m  ",
      " \u001b[38;5;240m   │\u001b[0m                                                      \u001b[38;5;54m╰\u001b[0m\u001b[38;5;54m─\u001b[0m\u001b[38;5;54m─\u001b[0m\u001b[38;5;54m─\u001b[0m\u001b[38;5;54m─\u001b[0m\u001b[38;5;54m─\u001b[0m\u001b[38;5;54m─\u001b[0m\u001b[38;5;54m─\u001b[0m no implementation for `Point - Point`",
      "\u001b[38;5;246m────╯\u001b[0m"
     ]
    }
   ],
   "source": [
    "/* \n",
    "std::ops::Add\n",
    "std::ops::Sub\n",
    "\n",
    "might not work for all types\n",
    "*/\n",
    "// Many built-in types implement Add and Sub traits:\n",
    "// - Integers (i8, i16, i32, i64, i128, isize)\n",
    "// - Unsigned integers (u8, u16, u32, u64, u128, usize)\n",
    "// - Floating point numbers (f32, f64)\n",
    "// - Complex numbers\n",
    "// - Custom types can also implement these traits\n",
    "\n",
    "fn sub_generic<T: std::ops::Sub<Output = T>>(a: T, b: T) -> T {\n",
    "    a - b\n",
    "}\n",
    "\n",
    "#[derive(Debug)]\n",
    "struct Point {\n",
    "    x: i32,\n",
    "    y: i32,\n",
    "}\n",
    "\n",
    "fn main() {\n",
    "    println!(\"Subtraction of 5 - 10 via generic function: {}\", sub_generic(5, 10));\n",
    "    println!(\"Subtraction of 5.1 - 10.5 via generic function: {}\", sub_generic(5.1, 10.5));\n",
    "\n",
    "    // This will cause a compiler error because Point doesn't implement Sub\n",
    "    let p1 = Point { x: 1, y: 2 };\n",
    "    let p2 = Point { x: 3, y: 4 };\n",
    "    println!(\"Trying to subtract Points: {:?}\", sub_generic(p1, p2));\n",
    "}\n",
    "\n",
    "main();"
   ]
  }
 ],
 "metadata": {
  "kernelspec": {
   "display_name": "Rust",
   "language": "rust",
   "name": "rust"
  },
  "language_info": {
   "codemirror_mode": "rust",
   "file_extension": ".rs",
   "mimetype": "text/rust",
   "name": "Rust",
   "pygment_lexer": "rust",
   "version": ""
  }
 },
 "nbformat": 4,
 "nbformat_minor": 2
}
